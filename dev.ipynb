{
 "cells": [
  {
   "cell_type": "code",
   "execution_count": null,
   "metadata": {},
   "outputs": [
    {
     "ename": "ImportError",
     "evalue": "cannot import name 'risk' from 'datriever.smart_app' (/home/m4rs/datriever-github/smart-app/sdk/src/datriever/smart_app/__init__.py)",
     "output_type": "error",
     "traceback": [
      "\u001b[0;31m---------------------------------------------------------------------------\u001b[0m",
      "\u001b[0;31mImportError\u001b[0m                               Traceback (most recent call last)",
      "Cell \u001b[0;32mIn[4], line 1\u001b[0m\n\u001b[0;32m----> 1\u001b[0m \u001b[38;5;28;01mfrom\u001b[39;00m \u001b[38;5;21;01mdatriever\u001b[39;00m\u001b[38;5;21;01m.\u001b[39;00m\u001b[38;5;21;01msmart_app\u001b[39;00m \u001b[38;5;28;01mimport\u001b[39;00m portfolio, risk\n",
      "\u001b[0;31mImportError\u001b[0m: cannot import name 'risk' from 'datriever.smart_app' (/home/m4rs/datriever-github/smart-app/sdk/src/datriever/smart_app/__init__.py)"
     ]
    }
   ],
   "source": [
    "from datriever.smart_app import portfolio, risk\n"
   ]
  },
  {
   "cell_type": "code",
   "execution_count": 3,
   "metadata": {},
   "outputs": [
    {
     "data": {
      "text/plain": [
       "[0.1, 0.05, 0.05, 0.1, 0.05, 0.1, 0.05, 0.05, 0.1, 0.34999999999999987]"
      ]
     },
     "execution_count": 3,
     "metadata": {},
     "output_type": "execute_result"
    }
   ],
   "source": [
    "sources = [\n",
    "  portfolio.Source(cost=50, emissions=30, risk=0.05, p_min=0.1, p_max=0.3),  # Solar\n",
    "  portfolio.Source(cost=40, emissions=40, risk=0.1, p_min=0.05, p_max=0.25),  # Wind\n",
    "  portfolio.Source(cost=70, emissions=10, risk=0.2, p_min=0.05, p_max=0.2),  # Nuclear\n",
    "  portfolio.Source(cost=80, emissions=90, risk=0.3, p_min=0.1, p_max=0.4),  # Coal\n",
    "  portfolio.Source(cost=60, emissions=50, risk=0.15, p_min=0.05, p_max=0.3),  # Natural Gas\n",
    "  portfolio.Source(cost=30, emissions=20, risk=0.1, p_min=0.1, p_max=0.35),  # Hydropower\n",
    "  portfolio.Source(cost=90, emissions=5, risk=0.25, p_min=0.05, p_max=0.15),  # Geothermal\n",
    "  portfolio.Source(cost=20, emissions=70, risk=0.3, p_min=0.05, p_max=0.4),  # Biomass\n",
    "  portfolio.Source(cost=25, emissions=60, risk=0.4, p_min=0.1, p_max=0.2),  # Oil\n",
    "  portfolio.Source(cost=15, emissions=15, risk=0.02, p_min=0.1, p_max=0.5),  # Offshore Wind\n",
    "]\n",
    "\n",
    "portfolio.optimize(sources, goals={'green': 0.5, 'cheap': 1}, constraints={'max_cost': 80})"
   ]
  }
 ],
 "metadata": {
  "kernelspec": {
   "display_name": ".venv",
   "language": "python",
   "name": "python3"
  },
  "language_info": {
   "codemirror_mode": {
    "name": "ipython",
    "version": 3
   },
   "file_extension": ".py",
   "mimetype": "text/x-python",
   "name": "python",
   "nbconvert_exporter": "python",
   "pygments_lexer": "ipython3",
   "version": "3.11.10"
  }
 },
 "nbformat": 4,
 "nbformat_minor": 2
}
