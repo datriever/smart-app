{
 "cells": [
  {
   "cell_type": "code",
   "execution_count": null,
   "metadata": {},
   "outputs": [],
   "source": [
    "from datriever.smart_app import portfolio"
   ]
  },
  {
   "cell_type": "code",
   "execution_count": 15,
   "metadata": {},
   "outputs": [
    {
     "name": "stdout",
     "output_type": "stream",
     "text": [
      "Metrics:\n",
      "  Weighted Average Cost: 37.75\n",
      "  Weighted Average Emissions: 34.00\n",
      "  Weighted Average Risk: 0.14\n",
      "\n",
      "Portfolio:\n",
      "  solar           10.0%\n",
      "  wind             5.0%\n",
      "  nuclear          5.0%\n",
      "  coal            10.0%\n",
      "  natural_gas      5.0%\n",
      "  hydropower      10.0%\n",
      "  geothermal       5.0%\n",
      "  biomass          5.0%\n",
      "  oil             10.0%\n",
      "  offshore_wind   35.0%\n"
     ]
    }
   ],
   "source": [
    "sources = {\n",
    "  'solar': portfolio.Source(cost=50, emissions=30, risk=0.05, p_min=0.1, p_max=0.3),\n",
    "  'wind': portfolio.Source(cost=40, emissions=40, risk=0.1, p_min=0.05, p_max=0.25),\n",
    "  'nuclear': portfolio.Source(cost=70, emissions=10, risk=0.2, p_min=0.05, p_max=0.2),\n",
    "  'coal': portfolio.Source(cost=80, emissions=90, risk=0.3, p_min=0.1, p_max=0.4),\n",
    "  'natural_gas': portfolio.Source(cost=60, emissions=50, risk=0.15, p_min=0.05, p_max=0.3),\n",
    "  'hydropower': portfolio.Source(cost=30, emissions=20, risk=0.1, p_min=0.1, p_max=0.35),\n",
    "  'geothermal': portfolio.Source(cost=90, emissions=5, risk=0.25, p_min=0.05, p_max=0.15),\n",
    "  'biomass': portfolio.Source(cost=20, emissions=70, risk=0.3, p_min=0.05, p_max=0.4),\n",
    "  'oil': portfolio.Source(cost=25, emissions=60, risk=0.4, p_min=0.1, p_max=0.2),\n",
    "  'offshore_wind': portfolio.Source(cost=15, emissions=15, risk=0.02, p_min=0.1, p_max=0.5),\n",
    "}\n",
    "\n",
    "split = portfolio.optimize(sources.values(), goals={'green': 0.5, 'cheap': 1}, constraints={'max_cost': 80})\n",
    "if split is None:\n",
    "  print('No solution found, constraints are too strict')\n",
    "else:\n",
    "  proposed_portfolio = list(zip(split, sources.values()))\n",
    "  print('Metrics:')\n",
    "  print(f'  Weighted Average Cost: {portfolio.cost(proposed_portfolio):.2f}')\n",
    "  print(f'  Weighted Average Emissions: {portfolio.emissions(proposed_portfolio):.2f}')\n",
    "  print(f'  Weighted Average Risk: {portfolio.risk(proposed_portfolio):.2f}')\n",
    "  print()\n",
    "\n",
    "  print('Portfolio:')\n",
    "  for source, fraction in zip(sources.keys(), split):\n",
    "    # print in tabular format\n",
    "    print(f'  {source:15} {fraction:>5.1%}')"
   ]
  }
 ],
 "metadata": {
  "kernelspec": {
   "display_name": ".venv",
   "language": "python",
   "name": "python3"
  },
  "language_info": {
   "codemirror_mode": {
    "name": "ipython",
    "version": 3
   },
   "file_extension": ".py",
   "mimetype": "text/x-python",
   "name": "python",
   "nbconvert_exporter": "python",
   "pygments_lexer": "ipython3",
   "version": "3.11.10"
  }
 },
 "nbformat": 4,
 "nbformat_minor": 2
}
